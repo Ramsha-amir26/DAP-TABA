{
 "cells": [
  {
   "cell_type": "code",
   "id": "initial_id",
   "metadata": {
    "collapsed": true,
    "ExecuteTime": {
     "end_time": "2024-04-20T17:21:07.348785Z",
     "start_time": "2024-04-20T17:21:07.343062Z"
    }
   },
   "source": [
    "from plugins.read_data_from_postgres import load_data_from_postgres\n",
    "import psycopg2\n",
    "import numpy as np"
   ],
   "outputs": [],
   "execution_count": 11
  },
  {
   "metadata": {
    "ExecuteTime": {
     "end_time": "2024-04-20T17:18:09.710892Z",
     "start_time": "2024-04-20T17:18:07.026718Z"
    }
   },
   "cell_type": "code",
   "source": [
    "from plugins.read_data_from_postgres import load_data_from_postgres\n",
    "\n",
    "database = \"postgres\"\n",
    "user = \"postgres\"\n",
    "password = \"javamylife\"\n",
    "host = \"database-3.c5go4e6kame4.us-east-1.rds.amazonaws.com\"\n",
    "port = 5432\n",
    "table = \"electric_vehicles\"\n",
    "\n",
    "df = load_data_from_postgres(database, user, password, host, port, table)"
   ],
   "id": "5aa5fa4aa17efa9b",
   "outputs": [],
   "execution_count": 3
  },
  {
   "metadata": {
    "ExecuteTime": {
     "end_time": "2024-04-20T17:18:10.858343Z",
     "start_time": "2024-04-20T17:18:10.842288Z"
    }
   },
   "cell_type": "code",
   "source": "df.head()",
   "id": "6aa7ac7ebbebebeb",
   "outputs": [
    {
     "data": {
      "text/plain": [
       "     id        date  county_id  vehicle_primary_use_id  bev  phev  ev_total  \\\n",
       "0  1401  2019-06-30        579                       6    0     0         0   \n",
       "1  1402  2023-04-30        799                       6    8     0         8   \n",
       "2  1403  2019-08-31        727                       6    0     0         0   \n",
       "3  1404  2019-05-31        668                       5    1     0         1   \n",
       "4  1405  2021-01-31        497                       5    0     1         1   \n",
       "\n",
       "   non_ev_total  total_vehicles  percent_ev  \n",
       "0          8586            8586        0.00  \n",
       "1         28276           28284        0.03  \n",
       "2         21265           21265        0.00  \n",
       "3           209             210        0.48  \n",
       "4            14              15        6.67  "
      ],
      "text/html": [
       "<div>\n",
       "<style scoped>\n",
       "    .dataframe tbody tr th:only-of-type {\n",
       "        vertical-align: middle;\n",
       "    }\n",
       "\n",
       "    .dataframe tbody tr th {\n",
       "        vertical-align: top;\n",
       "    }\n",
       "\n",
       "    .dataframe thead th {\n",
       "        text-align: right;\n",
       "    }\n",
       "</style>\n",
       "<table border=\"1\" class=\"dataframe\">\n",
       "  <thead>\n",
       "    <tr style=\"text-align: right;\">\n",
       "      <th></th>\n",
       "      <th>id</th>\n",
       "      <th>date</th>\n",
       "      <th>county_id</th>\n",
       "      <th>vehicle_primary_use_id</th>\n",
       "      <th>bev</th>\n",
       "      <th>phev</th>\n",
       "      <th>ev_total</th>\n",
       "      <th>non_ev_total</th>\n",
       "      <th>total_vehicles</th>\n",
       "      <th>percent_ev</th>\n",
       "    </tr>\n",
       "  </thead>\n",
       "  <tbody>\n",
       "    <tr>\n",
       "      <th>0</th>\n",
       "      <td>1401</td>\n",
       "      <td>2019-06-30</td>\n",
       "      <td>579</td>\n",
       "      <td>6</td>\n",
       "      <td>0</td>\n",
       "      <td>0</td>\n",
       "      <td>0</td>\n",
       "      <td>8586</td>\n",
       "      <td>8586</td>\n",
       "      <td>0.00</td>\n",
       "    </tr>\n",
       "    <tr>\n",
       "      <th>1</th>\n",
       "      <td>1402</td>\n",
       "      <td>2023-04-30</td>\n",
       "      <td>799</td>\n",
       "      <td>6</td>\n",
       "      <td>8</td>\n",
       "      <td>0</td>\n",
       "      <td>8</td>\n",
       "      <td>28276</td>\n",
       "      <td>28284</td>\n",
       "      <td>0.03</td>\n",
       "    </tr>\n",
       "    <tr>\n",
       "      <th>2</th>\n",
       "      <td>1403</td>\n",
       "      <td>2019-08-31</td>\n",
       "      <td>727</td>\n",
       "      <td>6</td>\n",
       "      <td>0</td>\n",
       "      <td>0</td>\n",
       "      <td>0</td>\n",
       "      <td>21265</td>\n",
       "      <td>21265</td>\n",
       "      <td>0.00</td>\n",
       "    </tr>\n",
       "    <tr>\n",
       "      <th>3</th>\n",
       "      <td>1404</td>\n",
       "      <td>2019-05-31</td>\n",
       "      <td>668</td>\n",
       "      <td>5</td>\n",
       "      <td>1</td>\n",
       "      <td>0</td>\n",
       "      <td>1</td>\n",
       "      <td>209</td>\n",
       "      <td>210</td>\n",
       "      <td>0.48</td>\n",
       "    </tr>\n",
       "    <tr>\n",
       "      <th>4</th>\n",
       "      <td>1405</td>\n",
       "      <td>2021-01-31</td>\n",
       "      <td>497</td>\n",
       "      <td>5</td>\n",
       "      <td>0</td>\n",
       "      <td>1</td>\n",
       "      <td>1</td>\n",
       "      <td>14</td>\n",
       "      <td>15</td>\n",
       "      <td>6.67</td>\n",
       "    </tr>\n",
       "  </tbody>\n",
       "</table>\n",
       "</div>"
      ]
     },
     "execution_count": 4,
     "metadata": {},
     "output_type": "execute_result"
    }
   ],
   "execution_count": 4
  },
  {
   "metadata": {
    "ExecuteTime": {
     "end_time": "2024-04-20T17:18:13.018955Z",
     "start_time": "2024-04-20T17:18:13.010204Z"
    }
   },
   "cell_type": "code",
   "source": [
    "# Count occurrences of vehicle_primary_use_id equal to 5\n",
    "count_5 = df[df['vehicle_primary_use_id'] == 5].shape[0]\n",
    "\n",
    "# Count occurrences of vehicle_primary_use_id equal to 6\n",
    "count_6 = df[df['vehicle_primary_use_id'] == 6].shape[0]\n",
    "\n",
    "print(\"Count of vehicle_primary_use_id equal to 5:\", count_5)\n",
    "print(\"Count of vehicle_primary_use_id equal to 6:\", count_6)"
   ],
   "id": "4a4ad5e738c6f180",
   "outputs": [
    {
     "name": "stdout",
     "output_type": "stream",
     "text": [
      "Count of vehicle_primary_use_id equal to 5: 17010\n",
      "Count of vehicle_primary_use_id equal to 6: 3398\n"
     ]
    }
   ],
   "execution_count": 5
  },
  {
   "metadata": {
    "ExecuteTime": {
     "end_time": "2024-04-20T17:18:16.161057Z",
     "start_time": "2024-04-20T17:18:16.147556Z"
    }
   },
   "cell_type": "code",
   "source": [
    "from sklearn.utils import resample\n",
    "import pandas as pd\n",
    "\n",
    "\n",
    "majority_class = df[df['vehicle_primary_use_id'] == 5]\n",
    "minority_class = df[df['vehicle_primary_use_id'] == 6]\n",
    "\n",
    "# Down sample majority class to match minority class\n",
    "downsampled_majority = resample(majority_class, \n",
    "                                 replace=False,    # sample without replacement\n",
    "                                 n_samples=len(minority_class),  # to match minority class\n",
    "                                 random_state=42)  # reproducible results\n",
    "\n",
    "# Combine minority class with down sampled majority class\n",
    "balanced_df = pd.concat([downsampled_majority, minority_class])"
   ],
   "id": "9d9fd077f274ae0a",
   "outputs": [],
   "execution_count": 6
  },
  {
   "metadata": {
    "ExecuteTime": {
     "end_time": "2024-04-20T17:18:24.356912Z",
     "start_time": "2024-04-20T17:18:24.347365Z"
    }
   },
   "cell_type": "code",
   "source": "balanced_df.head()",
   "id": "cd948f91835a51e",
   "outputs": [
    {
     "data": {
      "text/plain": [
       "          id        date  county_id  vehicle_primary_use_id  bev  phev  \\\n",
       "5826    7227  2021-01-31        644                       5    1     1   \n",
       "4652    6053  2022-09-30        491                       5  377   210   \n",
       "867     2268  2020-01-31        456                       5    7     7   \n",
       "15134  16535  2019-12-31        643                       5    0     5   \n",
       "6613    8014  2017-01-31        558                       5    6    21   \n",
       "\n",
       "       ev_total  non_ev_total  total_vehicles  percent_ev  \n",
       "5826          2           102             104        1.92  \n",
       "4652        587        166427          167014        0.35  \n",
       "867          14         12908           12922        0.11  \n",
       "15134         5           668             673        0.74  \n",
       "6613         27         31524           31551        0.09  "
      ],
      "text/html": [
       "<div>\n",
       "<style scoped>\n",
       "    .dataframe tbody tr th:only-of-type {\n",
       "        vertical-align: middle;\n",
       "    }\n",
       "\n",
       "    .dataframe tbody tr th {\n",
       "        vertical-align: top;\n",
       "    }\n",
       "\n",
       "    .dataframe thead th {\n",
       "        text-align: right;\n",
       "    }\n",
       "</style>\n",
       "<table border=\"1\" class=\"dataframe\">\n",
       "  <thead>\n",
       "    <tr style=\"text-align: right;\">\n",
       "      <th></th>\n",
       "      <th>id</th>\n",
       "      <th>date</th>\n",
       "      <th>county_id</th>\n",
       "      <th>vehicle_primary_use_id</th>\n",
       "      <th>bev</th>\n",
       "      <th>phev</th>\n",
       "      <th>ev_total</th>\n",
       "      <th>non_ev_total</th>\n",
       "      <th>total_vehicles</th>\n",
       "      <th>percent_ev</th>\n",
       "    </tr>\n",
       "  </thead>\n",
       "  <tbody>\n",
       "    <tr>\n",
       "      <th>5826</th>\n",
       "      <td>7227</td>\n",
       "      <td>2021-01-31</td>\n",
       "      <td>644</td>\n",
       "      <td>5</td>\n",
       "      <td>1</td>\n",
       "      <td>1</td>\n",
       "      <td>2</td>\n",
       "      <td>102</td>\n",
       "      <td>104</td>\n",
       "      <td>1.92</td>\n",
       "    </tr>\n",
       "    <tr>\n",
       "      <th>4652</th>\n",
       "      <td>6053</td>\n",
       "      <td>2022-09-30</td>\n",
       "      <td>491</td>\n",
       "      <td>5</td>\n",
       "      <td>377</td>\n",
       "      <td>210</td>\n",
       "      <td>587</td>\n",
       "      <td>166427</td>\n",
       "      <td>167014</td>\n",
       "      <td>0.35</td>\n",
       "    </tr>\n",
       "    <tr>\n",
       "      <th>867</th>\n",
       "      <td>2268</td>\n",
       "      <td>2020-01-31</td>\n",
       "      <td>456</td>\n",
       "      <td>5</td>\n",
       "      <td>7</td>\n",
       "      <td>7</td>\n",
       "      <td>14</td>\n",
       "      <td>12908</td>\n",
       "      <td>12922</td>\n",
       "      <td>0.11</td>\n",
       "    </tr>\n",
       "    <tr>\n",
       "      <th>15134</th>\n",
       "      <td>16535</td>\n",
       "      <td>2019-12-31</td>\n",
       "      <td>643</td>\n",
       "      <td>5</td>\n",
       "      <td>0</td>\n",
       "      <td>5</td>\n",
       "      <td>5</td>\n",
       "      <td>668</td>\n",
       "      <td>673</td>\n",
       "      <td>0.74</td>\n",
       "    </tr>\n",
       "    <tr>\n",
       "      <th>6613</th>\n",
       "      <td>8014</td>\n",
       "      <td>2017-01-31</td>\n",
       "      <td>558</td>\n",
       "      <td>5</td>\n",
       "      <td>6</td>\n",
       "      <td>21</td>\n",
       "      <td>27</td>\n",
       "      <td>31524</td>\n",
       "      <td>31551</td>\n",
       "      <td>0.09</td>\n",
       "    </tr>\n",
       "  </tbody>\n",
       "</table>\n",
       "</div>"
      ]
     },
     "execution_count": 7,
     "metadata": {},
     "output_type": "execute_result"
    }
   ],
   "execution_count": 7
  },
  {
   "metadata": {
    "ExecuteTime": {
     "end_time": "2024-04-20T17:19:00.261408Z",
     "start_time": "2024-04-20T17:19:00.251175Z"
    }
   },
   "cell_type": "code",
   "source": [
    "# Count occurrences of vehicle_primary_use_id equal to 5\n",
    "count_5 = balanced_df[balanced_df['vehicle_primary_use_id'] == 5].shape[0]\n",
    "\n",
    "# Count occurrences of vehicle_primary_use_id equal to 6\n",
    "count_6 = balanced_df[balanced_df['vehicle_primary_use_id'] == 6].shape[0]\n",
    "\n",
    "print(\"Count of vehicle_primary_use_id equal to 5:\", count_5)\n",
    "print(\"Count of vehicle_primary_use_id equal to 6:\", count_6)"
   ],
   "id": "576add3624c08b59",
   "outputs": [
    {
     "name": "stdout",
     "output_type": "stream",
     "text": [
      "Count of vehicle_primary_use_id equal to 5: 3398\n",
      "Count of vehicle_primary_use_id equal to 6: 3398\n"
     ]
    }
   ],
   "execution_count": 8
  },
  {
   "metadata": {
    "ExecuteTime": {
     "end_time": "2024-04-20T17:21:11.690263Z",
     "start_time": "2024-04-20T17:21:11.624207Z"
    }
   },
   "cell_type": "code",
   "source": [
    "from sklearn.neighbors import KNeighborsClassifier\n",
    "from sklearn.metrics import accuracy_score, classification_report\n",
    "from sklearn.metrics import mean_squared_error, mean_absolute_error\n",
    "from sklearn.model_selection import train_test_split\n",
    "\n",
    "\n",
    "# Split the data into features (X) and target variable (y)\n",
    "X = balanced_df.drop(['id', 'vehicle_primary_use_id', 'date'], axis=1)  # Assuming 'id' and 'date' are not features\n",
    "y = balanced_df['vehicle_primary_use_id']\n",
    "\n",
    "# Split data into training and testing sets (80% train, 20% test)\n",
    "X_train, X_test, y_train, y_test = train_test_split(X, y, test_size=0.2, random_state=42)\n",
    "\n",
    "# Initialize KNN classifier\n",
    "knn_classifier = KNeighborsClassifier(n_neighbors=5) \n",
    "\n",
    "# Train the KNN classifier\n",
    "knn_classifier.fit(X_train, y_train)\n",
    "\n",
    "# Make predictions on the test set\n",
    "y_pred = knn_classifier.predict(X_test)\n",
    "\n",
    "# Print classification report\n",
    "print(classification_report(y_test, y_pred))\n",
    "\n",
    "accuracy = accuracy_score(y_test, y_pred)\n",
    "print(\"Accuracy:\", accuracy)\n",
    "\n",
    "# Calculate Mean Squared Error (MSE)\n",
    "mse = mean_squared_error(y_test, y_pred)\n",
    "print(\"Mean Squared Error (MSE):\", mse)\n",
    "\n",
    "# Calculate Root Mean Squared Error (RMSE)\n",
    "rmse = np.sqrt(mse)\n",
    "print(\"Root Mean Squared Error (RMSE):\", rmse)"
   ],
   "id": "88bff1e023d8a613",
   "outputs": [
    {
     "name": "stdout",
     "output_type": "stream",
     "text": [
      "              precision    recall  f1-score   support\n",
      "\n",
      "           5       1.00      0.96      0.98       700\n",
      "           6       0.95      1.00      0.97       660\n",
      "\n",
      "    accuracy                           0.97      1360\n",
      "   macro avg       0.98      0.98      0.97      1360\n",
      "weighted avg       0.98      0.97      0.98      1360\n",
      "\n",
      "Accuracy: 0.975\n",
      "Mean Squared Error (MSE): 0.025\n",
      "Root Mean Squared Error (RMSE): 0.15811388300841897\n"
     ]
    }
   ],
   "execution_count": 12
  },
  {
   "metadata": {
    "ExecuteTime": {
     "end_time": "2024-04-20T17:23:47.266480Z",
     "start_time": "2024-04-20T17:23:45.352486Z"
    }
   },
   "cell_type": "code",
   "source": [
    "from matplotlib import pyplot as plt\n",
    "\n",
    "predictions_df = pd.DataFrame({'Actual': y_test, 'Predicted': y_pred})\n",
    "counts_df = predictions_df.groupby(['Actual', 'Predicted']).size().unstack(fill_value=0)\n",
    "\n",
    "# Plot bar plot\n",
    "counts_df.plot(kind='bar', stacked=True, figsize=(10, 6))\n",
    "plt.xlabel('Actual')\n",
    "plt.ylabel('Count')\n",
    "plt.title('Actual vs Predicted Counts')\n",
    "plt.legend(title='Predicted', bbox_to_anchor=(1.05, 1), loc='upper left')\n",
    "plt.show()"
   ],
   "id": "f28e05a2ec1dd163",
   "outputs": [
    {
     "data": {
      "text/plain": [
       "<Figure size 1000x600 with 1 Axes>"
      ],
      "image/png": "[encoded data removed]"
     },
     "metadata": {},
     "output_type": "display_data"
    }
   ],
   "execution_count": 14
  },
  {
   "metadata": {
    "ExecuteTime": {
     "end_time": "2024-04-20T17:24:46.426997Z",
     "start_time": "2024-04-20T17:24:46.119368Z"
    }
   },
   "cell_type": "code",
   "source": [
    "from sklearn.metrics import confusion_matrix\n",
    "import seaborn as sns\n",
    "\n",
    "conf_matrix = confusion_matrix(y_test, y_pred)\n",
    "\n",
    "# Plot confusion matrix heatmap\n",
    "plt.figure(figsize=(8, 6))\n",
    "sns.heatmap(conf_matrix, annot=True, fmt=\"d\", cmap=\"Blues\")\n",
    "plt.xlabel('Predicted labels')\n",
    "plt.ylabel('True labels')\n",
    "plt.title('Confusion Matrix')\n",
    "plt.show()"
   ],
   "id": "2803f6a93b3df171",
   "outputs": [
    {
     "data": {
      "text/plain": [
       "<Figure size 800x600 with 2 Axes>"
      ],
      "image/png": "[encoded data removed]"
     },
     "metadata": {},
     "output_type": "display_data"
    }
   ],
   "execution_count": 18
  }
 ],
 "metadata": {
  "kernelspec": {
   "display_name": "Python 3",
   "language": "python",
   "name": "python3"
  },
  "language_info": {
   "codemirror_mode": {
    "name": "ipython",
    "version": 2
   },
   "file_extension": ".py",
   "mimetype": "text/x-python",
   "name": "python",
   "nbconvert_exporter": "python",
   "pygments_lexer": "ipython2",
   "version": "2.7.6"
  }
 },
 "nbformat": 4,
 "nbformat_minor": 5
}
