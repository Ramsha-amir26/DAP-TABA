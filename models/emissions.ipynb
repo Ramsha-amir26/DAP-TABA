{
 "cells": [
  {
   "cell_type": "code",
   "execution_count": 17,
   "metadata": {},
   "outputs": [],
   "source": [
    "import psycopg2\n",
    "import pandas as pd\n",
    "\n",
    "\n",
    "conn = psycopg2.connect(\n",
    "    host=\"0.0.0.0\",\n",
    "    database=\"mydb\",\n",
    "    user=\"sammam\",\n",
    "    password=\"mysecretpassword\"\n",
    ")"
   ]
  },
  {
   "cell_type": "code",
   "execution_count": 18,
   "metadata": {},
   "outputs": [
    {
     "name": "stderr",
     "output_type": "stream",
     "text": [
      "/var/folders/6g/4zq1d985075_7_l6gxj2n81m0000gn/T/ipykernel_5593/808618032.py:3: UserWarning: pandas only supports SQLAlchemy connectable (engine/connection) or database string URI or sqlite3 DBAPI2 connection. Other DBAPI2 objects are not tested. Please consider using SQLAlchemy.\n",
      "  df = pd.read_sql(sql_query, conn)\n"
     ]
    }
   ],
   "source": [
    "sql_query = \"SELECT * FROM car_details INNER JOIN emission_standard ON car_details.stnd = emission_standard.stnd\"\n",
    "\n",
    "df = pd.read_sql(sql_query, conn)\n",
    "\n",
    "conn.close()"
   ]
  },
  {
   "cell_type": "code",
   "execution_count": 27,
   "metadata": {},
   "outputs": [
    {
     "name": "stdout",
     "output_type": "stream",
     "text": [
      "      model  disp  cyl  trans  drive  fuel  veh_class  air_pollution_score  \\\n",
      "0         3   3.0  6.0      1      1     2          4                  3.0   \n",
      "1         0   2.4  4.0      2      0     2          5                  3.0   \n",
      "2         0   2.4  4.0      2      0     2          5                  3.0   \n",
      "3         3   3.5  6.0     29      0     2          4                  3.0   \n",
      "4         3   3.5  6.0     29      0     2          4                  3.0   \n",
      "...     ...   ...  ...    ...    ...   ...        ...                  ...   \n",
      "4135    714   4.0  8.0     28      1     2          7                  3.0   \n",
      "4136    748   6.2  8.0     10      1     2          3                  1.0   \n",
      "4137    748   6.2  8.0     10      1     2          3                  1.0   \n",
      "4138    792   1.6  3.0     17      1     2          5                  5.0   \n",
      "4139    833   1.5  4.0     28      0     2          4                  7.0   \n",
      "\n",
      "      city_mpg  city_mpg_alternate  hwy_mpg  hwy_mpg_alternate  cmb_mpg  \\\n",
      "0         26.0                 0.0     27.0                0.0     27.0   \n",
      "1         24.0                 0.0     34.0                0.0     28.0   \n",
      "2         24.0                 0.0     34.0                0.0     28.0   \n",
      "3         20.0                 0.0     27.0                0.0     23.0   \n",
      "4         20.0                 0.0     27.0                0.0     23.0   \n",
      "...        ...                 ...      ...                ...      ...   \n",
      "4135      15.0                 0.0     21.0                0.0     17.0   \n",
      "4136      10.0                 0.0     14.0                0.0     12.0   \n",
      "4137      10.0                 0.0     14.0                0.0     12.0   \n",
      "4138      21.0                 0.0     28.0                0.0     24.0   \n",
      "4139      28.0                 0.0     36.0                0.0     31.0   \n",
      "\n",
      "      cmb_mpg_alternate  greenhouse_gas_score  smart_way  comb_co2  \\\n",
      "0                   0.0                   6.0          1     330.0   \n",
      "1                   0.0                   6.0          1     316.0   \n",
      "2                   0.0                   6.0          1     316.0   \n",
      "3                   0.0                   5.0          1     387.0   \n",
      "4                   0.0                   5.0          1     387.0   \n",
      "...                 ...                   ...        ...       ...   \n",
      "4135                0.0                   3.0          1     521.0   \n",
      "4136                0.0                   1.0          1     748.0   \n",
      "4137                0.0                   1.0          1     748.0   \n",
      "4138                0.0                   5.0          1     368.0   \n",
      "4139                0.0                   6.0          1     286.0   \n",
      "\n",
      "      comb_co2_alternate  cert_region  \n",
      "0                    0.0            0  \n",
      "1                    0.0            1  \n",
      "2                    0.0            0  \n",
      "3                    0.0            0  \n",
      "4                    0.0            1  \n",
      "...                  ...          ...  \n",
      "4135                 0.0            1  \n",
      "4136                 0.0            0  \n",
      "4137                 0.0            1  \n",
      "4138                 0.0            1  \n",
      "4139                 0.0            1  \n",
      "\n",
      "[4140 rows x 19 columns]\n",
      "<bound method NDFrame.describe of       model  disp  cyl  trans  drive  fuel  veh_class  air_pollution_score  \\\n",
      "0         3   3.0  6.0      1      1     2          4                  3.0   \n",
      "1         0   2.4  4.0      2      0     2          5                  3.0   \n",
      "2         0   2.4  4.0      2      0     2          5                  3.0   \n",
      "3         3   3.5  6.0     29      0     2          4                  3.0   \n",
      "4         3   3.5  6.0     29      0     2          4                  3.0   \n",
      "...     ...   ...  ...    ...    ...   ...        ...                  ...   \n",
      "4135    714   4.0  8.0     28      1     2          7                  3.0   \n",
      "4136    748   6.2  8.0     10      1     2          3                  1.0   \n",
      "4137    748   6.2  8.0     10      1     2          3                  1.0   \n",
      "4138    792   1.6  3.0     17      1     2          5                  5.0   \n",
      "4139    833   1.5  4.0     28      0     2          4                  7.0   \n",
      "\n",
      "      city_mpg  city_mpg_alternate  hwy_mpg  hwy_mpg_alternate  cmb_mpg  \\\n",
      "0         26.0                 0.0     27.0                0.0     27.0   \n",
      "1         24.0                 0.0     34.0                0.0     28.0   \n",
      "2         24.0                 0.0     34.0                0.0     28.0   \n",
      "3         20.0                 0.0     27.0                0.0     23.0   \n",
      "4         20.0                 0.0     27.0                0.0     23.0   \n",
      "...        ...                 ...      ...                ...      ...   \n",
      "4135      15.0                 0.0     21.0                0.0     17.0   \n",
      "4136      10.0                 0.0     14.0                0.0     12.0   \n",
      "4137      10.0                 0.0     14.0                0.0     12.0   \n",
      "4138      21.0                 0.0     28.0                0.0     24.0   \n",
      "4139      28.0                 0.0     36.0                0.0     31.0   \n",
      "\n",
      "      cmb_mpg_alternate  greenhouse_gas_score  smart_way  comb_co2  \\\n",
      "0                   0.0                   6.0          1     330.0   \n",
      "1                   0.0                   6.0          1     316.0   \n",
      "2                   0.0                   6.0          1     316.0   \n",
      "3                   0.0                   5.0          1     387.0   \n",
      "4                   0.0                   5.0          1     387.0   \n",
      "...                 ...                   ...        ...       ...   \n",
      "4135                0.0                   3.0          1     521.0   \n",
      "4136                0.0                   1.0          1     748.0   \n",
      "4137                0.0                   1.0          1     748.0   \n",
      "4138                0.0                   5.0          1     368.0   \n",
      "4139                0.0                   6.0          1     286.0   \n",
      "\n",
      "      comb_co2_alternate  cert_region  \n",
      "0                    0.0            0  \n",
      "1                    0.0            1  \n",
      "2                    0.0            0  \n",
      "3                    0.0            0  \n",
      "4                    0.0            1  \n",
      "...                  ...          ...  \n",
      "4135                 0.0            1  \n",
      "4136                 0.0            0  \n",
      "4137                 0.0            1  \n",
      "4138                 0.0            1  \n",
      "4139                 0.0            1  \n",
      "\n",
      "[4140 rows x 19 columns]>\n"
     ]
    }
   ],
   "source": [
    "print(df)"
   ]
  },
  {
   "cell_type": "code",
   "execution_count": 28,
   "metadata": {},
   "outputs": [
    {
     "name": "stdout",
     "output_type": "stream",
     "text": [
      "             model         disp          cyl        trans        drive  \\\n",
      "count  4140.000000  4140.000000  4140.000000  4140.000000  4140.000000   \n",
      "mean    408.922464     2.948671     5.402899    17.921014     0.471739   \n",
      "std     223.392097     1.301201     1.932040     9.276655     0.499261   \n",
      "min       0.000000     0.600000     2.000000     0.000000     0.000000   \n",
      "25%     241.000000     2.000000     4.000000    11.000000     0.000000   \n",
      "50%     373.000000     2.500000     4.000000    19.000000     0.000000   \n",
      "75%     587.250000     3.500000     6.000000    28.000000     1.000000   \n",
      "max     860.000000     8.000000    16.000000    29.000000     1.000000   \n",
      "\n",
      "              fuel    veh_class  air_pollution_score     city_mpg  \\\n",
      "count  4140.000000  4140.000000          4140.000000  4140.000000   \n",
      "mean      2.028502     3.880676             4.861353    22.139855   \n",
      "std       0.396480     2.264523             1.758452     7.877843   \n",
      "min       0.000000     0.000000             1.000000     8.000000   \n",
      "25%       2.000000     2.000000             3.000000    17.000000   \n",
      "50%       2.000000     4.000000             5.000000    21.000000   \n",
      "75%       2.000000     5.000000             7.000000    25.000000   \n",
      "max       3.000000     9.000000             8.000000    58.000000   \n",
      "\n",
      "       city_mpg_alternate      hwy_mpg  hwy_mpg_alternate      cmb_mpg  \\\n",
      "count         4140.000000  4140.000000        4140.000000  4140.000000   \n",
      "mean             6.046377    28.026087           5.890821    24.350725   \n",
      "std             21.235680     7.134797          19.790572     7.449155   \n",
      "min              0.000000    11.000000           0.000000     9.000000   \n",
      "25%              0.000000    23.000000           0.000000    19.000000   \n",
      "50%              0.000000    27.000000           0.000000    23.000000   \n",
      "75%              0.000000    32.000000           0.000000    28.000000   \n",
      "max            145.000000    60.000000         121.000000    59.000000   \n",
      "\n",
      "       cmb_mpg_alternate  greenhouse_gas_score    smart_way     comb_co2  \\\n",
      "count        4140.000000           4140.000000  4140.000000  4140.000000   \n",
      "mean            5.951208              5.050000     1.114010   381.256039   \n",
      "std            20.454028              2.008718     0.378891   124.558532   \n",
      "min             0.000000              1.000000     0.000000    22.000000   \n",
      "25%             0.000000              4.000000     1.000000   305.000000   \n",
      "50%             0.000000              5.000000     1.000000   375.000000   \n",
      "75%             0.000000              6.000000     1.000000   450.000000   \n",
      "max           133.000000             10.000000     2.000000   979.000000   \n",
      "\n",
      "       comb_co2_alternate  cert_region  \n",
      "count         4140.000000  4140.000000  \n",
      "mean             8.700242     0.504348  \n",
      "std             64.573156     0.500041  \n",
      "min              0.000000     0.000000  \n",
      "25%              0.000000     0.000000  \n",
      "50%              0.000000     1.000000  \n",
      "75%              0.000000     1.000000  \n",
      "max            708.000000     1.000000  \n"
     ]
    }
   ],
   "source": [
    "print(df.describe())"
   ]
  },
  {
   "cell_type": "markdown",
   "metadata": {},
   "source": [
    "Preprocessing"
   ]
  },
  {
   "cell_type": "code",
   "execution_count": 20,
   "metadata": {},
   "outputs": [],
   "source": [
    "df = df.drop(columns=['underhood_id', 'stnd_description', 'stnd'])"
   ]
  },
  {
   "cell_type": "code",
   "execution_count": 21,
   "metadata": {},
   "outputs": [
    {
     "name": "stdout",
     "output_type": "stream",
     "text": [
      "Index(['model', 'disp', 'cyl', 'trans', 'drive', 'fuel', 'veh_class',\n",
      "       'air_pollution_score', 'city_mpg', 'city_mpg_alternate', 'hwy_mpg',\n",
      "       'hwy_mpg_alternate', 'cmb_mpg', 'cmb_mpg_alternate',\n",
      "       'greenhouse_gas_score', 'smart_way', 'comb_co2', 'comb_co2_alternate',\n",
      "       'cert_region'],\n",
      "      dtype='object')\n"
     ]
    }
   ],
   "source": [
    "from sklearn.preprocessing import LabelEncoder\n",
    "print(df.columns)\n",
    "\n",
    "def label_encode_columns(df, column_names):\n",
    "\n",
    "    df_encoded = df.copy()\n",
    "    encoder = LabelEncoder()\n",
    "\n",
    "    for col in column_names:\n",
    "        try:\n",
    "            if col in df_encoded.columns:\n",
    "                df_encoded[col] = encoder.fit_transform(df_encoded[col])\n",
    "        except:\n",
    "            print(col)\n",
    "    return df_encoded\n",
    "\n",
    "cate_cols = ['stnd', 'model', 'trans', 'drive', 'fuel', 'veh_class', 'smart_way', 'cert_region']\n",
    "\n",
    "df = label_encode_columns(df, cate_cols)\n"
   ]
  },
  {
   "cell_type": "code",
   "execution_count": 83,
   "metadata": {},
   "outputs": [
    {
     "name": "stdout",
     "output_type": "stream",
     "text": [
      "Mean Squared Error: 15.993063010001888\n",
      "Root Mean Squared Error: 3.9991327822419063\n"
     ]
    }
   ],
   "source": [
    "from sklearn.model_selection import train_test_split\n",
    "from sklearn.ensemble import RandomForestRegressor\n",
    "from sklearn.metrics import mean_squared_error\n",
    "from sklearn.model_selection import StratifiedKFold, cross_val_score\n",
    "\n",
    "\n",
    "X = df.drop(columns=['comb_co2', 'comb_co2_alternate'])\n",
    "y = df[['comb_co2', 'comb_co2_alternate']]\n",
    "\n",
    "\n",
    "X_train, X_test, y_train, y_test = train_test_split(X, y, test_size=0.2, random_state=42)\n",
    "\n",
    "model = RandomForestRegressor(n_estimators = 21, max_features = 'sqrt', max_depth = 30, random_state = 42)\n",
    "\n",
    "model.fit(X_train, y_train)\n",
    "\n",
    "y_pred = model.predict(X_test)\n",
    "\n",
    "mse = mean_squared_error(y_test, y_pred)\n",
    "print(\"Mean Squared Error:\", mse)\n",
    "\n",
    "rmse = mse**.5\n",
    "print(\"Root Mean Squared Error:\", rmse)\n"
   ]
  }
 ],
 "metadata": {
  "kernelspec": {
   "display_name": "Python 3",
   "language": "python",
   "name": "python3"
  },
  "language_info": {
   "codemirror_mode": {
    "name": "ipython",
    "version": 3
   },
   "file_extension": ".py",
   "mimetype": "text/x-python",
   "name": "python",
   "nbconvert_exporter": "python",
   "pygments_lexer": "ipython3",
   "version": "3.12.1"
  }
 },
 "nbformat": 4,
 "nbformat_minor": 2
}
